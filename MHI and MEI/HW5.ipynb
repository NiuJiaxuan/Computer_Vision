{
  "nbformat": 4,
  "nbformat_minor": 0,
  "metadata": {
    "colab": {
      "provenance": []
    },
    "kernelspec": {
      "name": "python3",
      "display_name": "Python 3"
    },
    "language_info": {
      "name": "python"
    }
  },
  "cells": [
    {
      "cell_type": "code",
      "source": [
        "import os\n",
        "import numpy as np\n",
        "import imageio\n",
        "from scipy import ndimage\n",
        "import skimage.morphology\n",
        "import matplotlib.pyplot as plt\n",
        "import pdb\n",
        "from numpy import mgrid, sum\n",
        "from skimage import img_as_float\n",
        "import cv2\n",
        "from scipy import signal"
      ],
      "metadata": {
        "id": "C7S-YtaDVt7X"
      },
      "execution_count": 2,
      "outputs": []
    },
    {
      "cell_type": "markdown",
      "source": [
        "# Problem 1"
      ],
      "metadata": {
        "id": "J9vcH0fZVAfw"
      }
    },
    {
      "cell_type": "code",
      "source": [
        "origin_Im = imageio.imread(os.path.join(\"aerobic-001.bmp\"))\n",
        "# test with different thresholds\n",
        "thresholds =[5,10,15,20]\n",
        "for threshold in thresholds:\n",
        "      os.makedirs(\"threshold{:d}\".format(threshold),exist_ok=True)\n",
        "for i in range(1, 22):\n",
        "      im = imageio.imread(os.path.join(\"aerobic-{}.bmp\".format(str(i + 1).zfill(3))))\n",
        "      for threshold in thresholds:\n",
        "          diff = abs(im - origin_Im) >= threshold\n",
        "          diff = ndimage.binary_opening(diff, structure=np.ones((3, 3)))\n",
        "          #remove any tiny regions\n",
        "          diff = skimage.morphology.remove_small_objects(diff, min_size=55, connectivity=1, in_place=False)\n",
        "          diff = diff.astype(np.uint8) * 255\n",
        "          imageio.imwrite(os.path.join(\"threshold{:d}\".format(threshold),\"diff-{:03}.bmp\".format(i + 1)),diff)\n"
      ],
      "metadata": {
        "id": "eYjPJtP3yz-b"
      },
      "execution_count": 38,
      "outputs": []
    },
    {
      "cell_type": "markdown",
      "source": [
        "Discussion:\n",
        "\n",
        "For the problem 1, I expreiment thresholds 5, 10, 15, and 20. I first create new folders which are named threshold#.And the outputs will be saved in each folder. "
      ],
      "metadata": {
        "id": "FbmaoujycMOl"
      }
    },
    {
      "cell_type": "markdown",
      "source": [
        "# Problem2"
      ],
      "metadata": {
        "id": "pSGjaDfSm6dU"
      }
    },
    {
      "cell_type": "code",
      "source": [
        "def similitudeMoments(image):\n",
        "    # Normalize grayscale image\n",
        "    image = (image - np.min(image)) / (np.max(image) - np.min(image))\n",
        "\n",
        "    x, y = mgrid[:image.shape[0],:image.shape[1]]\n",
        "    \n",
        "    ## initial\n",
        "    moments = {}\n",
        "    Nvals ={}\n",
        "    \n",
        "    #x bar and y bar\n",
        "    moments['x_'] = sum(x*image)/sum(image)\n",
        "    moments['y_'] = sum(y*image)/sum(image)\n",
        "    \n",
        "    # Spatial moments\n",
        "    moments['m00'] = sum(image)\n",
        "\n",
        "    moments['m01'] = sum(x*image)\n",
        "    moments['m10'] = sum(y*image)\n",
        "    moments['m11'] = sum(y*x*image)\n",
        "    moments['m02'] = sum(x**2*image)\n",
        "    moments['m20'] = sum(y**2*image)\n",
        "    moments['m12'] = sum(x*y**2*image)\n",
        "    moments['m21'] = sum(x**2*y*image)\n",
        "    moments['m03'] = sum(x**3*image)\n",
        "    moments['m30'] = sum(y**3*image)\n",
        "    \n",
        "    #Central moments\n",
        "    \n",
        "    moments['mu01']= sum((y-moments['y_'])*image)\n",
        "    moments['mu10']= sum((x-moments['x_'])*image)\n",
        "    moments['mu11'] = sum((x-moments['x_'])*(y-moments['y_'])*image)\n",
        "    moments['mu02'] = sum((y-moments['y_'])**2*image)\n",
        "    moments['mu20'] = sum((x-moments['x_'])**2*image)\n",
        "    moments['mu12'] = sum((x-moments['x_'])*(y-moments['y_'])**2*image)\n",
        "    moments['mu21'] = sum((x-moments['x_'])**2*(y-moments['y_'])*image)\n",
        "    moments['mu03'] = sum((y-moments['y_'])**3*image)\n",
        "    moments['mu30'] = sum((x-moments['x_'])**3*image)\n",
        "    \n",
        "    # Similitude Moments\n",
        "    Nvals['n02'] = moments['mu02'] / sum(image)**(2/2+1)\n",
        "    Nvals['n03'] = moments['mu03'] / sum(image)**(3/2+1)\n",
        "    Nvals['n11'] = moments['mu11'] / sum(image)**(2/2+1)\n",
        "    Nvals['n12'] = moments['mu12'] / sum(image)**(3/2+1)\n",
        "    Nvals['n20'] = moments['mu20'] / sum(image)**(2/2+1)\n",
        "    Nvals['n21'] = moments['mu21'] / sum(image)**(3/2+1)\n",
        "    Nvals['n30'] = moments['mu30'] / sum(image)**(3/2+1)\n",
        "    \n",
        "    return Nvals"
      ],
      "metadata": {
        "id": "yWDj-oZ11Aij"
      },
      "execution_count": 8,
      "outputs": []
    },
    {
      "cell_type": "code",
      "source": [
        "diffs = []\n",
        "for i in range(1, 22):\n",
        "    diff = imageio.imread(os.path.join(\"threshold20\",\"diff-{}.bmp\".format(str(i + 1).zfill(3))))\n",
        "    diff = diff > 20\n",
        "    diffs.append(diff)\n",
        "\n",
        "figure, axs = plt.subplots(5,5)\n",
        "#compute MEI\n",
        "MEI = np.zeros_like(diffs[0]).astype(np.bool)\n",
        "for i in range(0, 21):\n",
        "    MEI = MEI + diffs[i]\n",
        "    axs[i // 5, i % 5].set_title(\"MEI-{:03d}\".format(i + 2))\n",
        "    axs[i // 5, i % 5].axis(\"off\")\n",
        "    axs[i // 5, i % 5].imshow(MEI.astype(np.uint8) * 255, cmap=\"gray\")\n",
        "for i in range(21, 25):\n",
        "    axs[i // 5, i % 5].axis(\"off\")\n",
        "\n",
        "plt.show()\n",
        "\n",
        "figure, axs = plt.subplots(5, 5)\n",
        "\n",
        "#compute MHI \n",
        "MHI_prev = np.zeros_like(diffs[0]).astype(np.float32)\n",
        "for i in range(0, 21):\n",
        "    MHI = np.zeros_like(MHI_prev)\n",
        "    MHI[MHI_prev > 0] = MHI_prev[MHI_prev > 0] - 1.\n",
        "    MHI[diffs[i]] = 22\n",
        "    MHI_prev = MHI\n",
        "    axs[i // 5, i % 5].set_title(\"MHI-{:03d}\".format(i + 2))\n",
        "    axs[i // 5, i % 5].axis(\"off\")\n",
        "    axs[i // 5, i % 5].imshow((MHI / 22 * 255).astype(np.uint8), cmap=\"gray\")\n",
        "\n",
        "for i in range(21, 25):\n",
        "    axs[i // 5, i % 5].axis(\"off\")\n",
        "\n",
        "plt.show()\n",
        "\n",
        "MEI_similitudeMoments = similitudeMoments(MEI.astype(np.float32))\n",
        "print(\"MEI: \", MEI_similitudeMoments)\n",
        "MHI_similitudeMoments = similitudeMoments(MHI.astype(np.float32) / 22)\n",
        "print(\"MHI: \", MHI_similitudeMoments)"
      ],
      "metadata": {
        "id": "oVaCO-X81EtC",
        "colab": {
          "base_uri": "https://localhost:8080/",
          "height": 620
        },
        "outputId": "dff06d36-e077-48ff-f4e6-5cb82ae2e417"
      },
      "execution_count": 37,
      "outputs": [
        {
          "output_type": "stream",
          "name": "stderr",
          "text": [
            "<ipython-input-37-b70d1bd2fe92>:9: DeprecationWarning: `np.bool` is a deprecated alias for the builtin `bool`. To silence this warning, use `bool` by itself. Doing this will not modify any behavior and is safe. If you specifically wanted the numpy scalar type, use `np.bool_` here.\n",
            "Deprecated in NumPy 1.20; for more details and guidance: https://numpy.org/devdocs/release/1.20.0-notes.html#deprecations\n",
            "  MEI = np.zeros_like(diffs[0]).astype(np.bool)\n"
          ]
        },
        {
          "output_type": "display_data",
          "data": {
            "text/plain": [
              "<Figure size 432x288 with 25 Axes>"
            ],
            "image/png": "[encoded data removed]"
          },
          "metadata": {
            "needs_background": "light"
          }
        },
        {
          "output_type": "display_data",
          "data": {
            "text/plain": [
              "<Figure size 432x288 with 25 Axes>"
            ],
            "image/png": "[encoded data removed]"
          },
          "metadata": {
            "needs_background": "light"
          }
        },
        {
          "output_type": "stream",
          "name": "stdout",
          "text": [
            "MEI:  {'n02': 0.28693331357522245, 'n03': 0.019277681430337135, 'n11': -0.08129223245325587, 'n12': -0.007257769551763045, 'n20': 0.2714689182454791, 'n21': 0.08384699796334377, 'n30': -0.052502394809815424}\n",
            "MHI:  {'n02': 0.3523762053571009, 'n03': -0.02752167545187336, 'n11': -0.1113495009648582, 'n12': 0.005223465673085032, 'n20': 0.3314530407368646, 'n21': 0.11516437305322302, 'n30': -0.0992379591554864}\n"
          ]
        }
      ]
    },
    {
      "cell_type": "markdown",
      "source": [
        "Discussion:\n",
        "\n",
        "\n",
        "For this problem, the input I usedw is in the folder: threshold20 which was created in the problem 1. "
      ],
      "metadata": {
        "id": "8nkxzm2tm_bj"
      }
    },
    {
      "cell_type": "markdown",
      "source": [
        "# Problem3"
      ],
      "metadata": {
        "id": "LAnlJL1Ym-6t"
      }
    },
    {
      "cell_type": "code",
      "source": [
        "# Create the first image \n",
        "img1 = np.zeros((101, 101), dtype=np.float32)\n",
        "img1[40:61, 6:27] = 1\n",
        "\n",
        "# Create the second image\n",
        "img2 = np.zeros((101, 101), dtype=np.float32)\n",
        "img2[41:62, 7:28] = 1\n",
        "\n",
        "plt.subplot(1,2,1)\n",
        "plt.imshow(img1, cmap='gray')\n",
        "\n",
        "plt.subplot(1,2,2)\n",
        "plt.imshow(img2, cmap='gray')"
      ],
      "metadata": {
        "colab": {
          "base_uri": "https://localhost:8080/",
          "height": 221
        },
        "id": "wFrTRHN6tJn3",
        "outputId": "34e10c88-24fa-4680-f870-bd31a10b3c07"
      },
      "execution_count": 35,
      "outputs": [
        {
          "output_type": "execute_result",
          "data": {
            "text/plain": [
              "<matplotlib.image.AxesImage at 0x7fa456845160>"
            ]
          },
          "metadata": {},
          "execution_count": 35
        },
        {
          "output_type": "display_data",
          "data": {
            "text/plain": [
              "<Figure size 432x288 with 2 Axes>"
            ],
            "image/png": "[encoded data removed]"
          },
          "metadata": {
            "needs_background": "light"
          }
        }
      ]
    },
    {
      "cell_type": "code",
      "source": [
        "fx = (signal.convolve2d(img1, np.fliplr(0.25 * np.array([[-1., 1.], [-1., 1.]])), boundary='symm', mode='same'))\n",
        "fy = (signal.convolve2d(img1, 0.25 * np.array([[-1., -1.], [1., 1.]]), boundary='symm', mode='same'))\n",
        "ft = (signal.convolve2d(img2, 0.25 * np.array([[1., 1.], [1., 1.]]), boundary='symm', mode='same') + \n",
        "         signal.convolve2d(img1, -0.25 * np.array([[1., 1.], [1., 1.]]), boundary='symm', mode='same'))\n",
        "    \n",
        "u = np.zeros(img1.shape)\n",
        "v = np.zeros(img1.shape)\n",
        "    \n",
        "window = np.ones((3,3))\n",
        "    \n",
        "denom = (signal.convolve2d(fx**2, window, boundary='symm', mode='same') * \n",
        "            signal.convolve2d(fy**2, window, boundary='symm', mode='same') -\n",
        "            signal.convolve2d(fx*fy, window, boundary='symm', mode='same')**2)\n",
        "denom[denom == 0] = 1\n",
        "    \n",
        "u = ((signal.convolve2d(fy**2, window, boundary='symm', mode='same') * \n",
        "             signal.convolve2d(fy*ft, window, boundary='symm', mode='same') + \n",
        "             signal.convolve2d(fx*fy, window, boundary='symm', mode='same') * \n",
        "             signal.convolve2d(fy*ft, window, boundary='symm', mode='same') ) /\n",
        "        denom)\n",
        "    \n",
        "    \n",
        "v = ((signal.convolve2d(fx*ft, window, boundary='symm', mode='same') * \n",
        "             signal.convolve2d(fx*fy, window, boundary='symm', mode='same') -\n",
        "             signal.convolve2d(fx**2, window, boundary='symm', mode='same') * \n",
        "             signal.convolve2d(fy*ft, window, boundary='symm', mode='same')) / \n",
        "        denom)\n",
        "    \n",
        "# Draw the motion vectors on the image\n",
        "x, y = np.meshgrid(np.arange(0, img1.shape[1], 1), np.arange(0, img1.shape[0], 1))\n",
        "plt.figure(figsize=(10,10))\n",
        "plt.imshow(img1, cmap='gray')\n",
        "plt.quiver(x[::3, ::3], y[::3, ::3], u[::3,::3], v[::3,::3], color='red', scale=25)\n",
        "plt.axis(\"off\")\n",
        "plt.show()"
      ],
      "metadata": {
        "colab": {
          "base_uri": "https://localhost:8080/",
          "height": 575
        },
        "id": "EJOFUKhOvusc",
        "outputId": "1c7722eb-0c7c-402d-c0b4-3a43ad942f81"
      },
      "execution_count": 40,
      "outputs": [
        {
          "output_type": "display_data",
          "data": {
            "text/plain": [
              "<Figure size 720x720 with 1 Axes>"
            ],
            "image/png": "[encoded data removed]"
          },
          "metadata": {
            "needs_background": "light"
          }
        }
      ]
    },
    {
      "cell_type": "markdown",
      "source": [
        "Discussion:\n",
        "\n",
        "To be honest, this result is not what I expected. This is because I notice it seems something wrong with the those three arrow in the coners. But I am not sure why there missing a arrow at the left-bottom coner. "
      ],
      "metadata": {
        "id": "vmfq-pbAFaO7"
      }
    }
  ]
}