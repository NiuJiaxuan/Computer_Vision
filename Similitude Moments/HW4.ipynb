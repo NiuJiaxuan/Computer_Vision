{
  "nbformat": 4,
  "nbformat_minor": 0,
  "metadata": {
    "colab": {
      "provenance": []
    },
    "kernelspec": {
      "name": "python3",
      "display_name": "Python 3"
    },
    "language_info": {
      "name": "python"
    }
  },
  "cells": [
    {
      "cell_type": "markdown",
      "source": [
        "# HW4"
      ],
      "metadata": {
        "id": "XzVCKat08IZ9"
      }
    },
    {
      "cell_type": "code",
      "source": [
        "from skimage.io import imread\n",
        "from skimage.filters import gaussian\n",
        "import numpy as np\n",
        "from matplotlib import pyplot as plt\n",
        "from skimage import img_as_float\n",
        "import cv2\n",
        "from numpy import mgrid, sum\n",
        "from skimage import color\n",
        "from skimage import io"
      ],
      "metadata": {
        "id": "tpaFmIaxj41i"
      },
      "execution_count": 11,
      "outputs": []
    },
    {
      "cell_type": "markdown",
      "source": [
        "# Problem1"
      ],
      "metadata": {
        "id": "gbAwUn4G2QNb"
      }
    },
    {
      "cell_type": "code",
      "execution_count": 12,
      "metadata": {
        "id": "1QHufwcG8GQn"
      },
      "outputs": [],
      "source": [
        "def similitudeMoments(image):\n",
        "    # Normalize grayscale image\n",
        "    image = (image - np.min(image)) / (np.max(image) - np.min(image))\n",
        "\n",
        "    x, y = mgrid[:image.shape[0],:image.shape[1]]\n",
        "    \n",
        "    ## initial\n",
        "    moments = {}\n",
        "    Nvals ={}\n",
        "    \n",
        "    #x bar and y bar\n",
        "    moments['x_'] = sum(x*image)/sum(image)\n",
        "    moments['y_'] = sum(y*image)/sum(image)\n",
        "    \n",
        "    # Spatial moments\n",
        "    moments['m00'] = sum(image)\n",
        "\n",
        "    moments['m01'] = sum(x*image)\n",
        "    moments['m10'] = sum(y*image)\n",
        "    moments['m11'] = sum(y*x*image)\n",
        "    moments['m02'] = sum(x**2*image)\n",
        "    moments['m20'] = sum(y**2*image)\n",
        "    moments['m12'] = sum(x*y**2*image)\n",
        "    moments['m21'] = sum(x**2*y*image)\n",
        "    moments['m03'] = sum(x**3*image)\n",
        "    moments['m30'] = sum(y**3*image)\n",
        "    \n",
        "    #Central moments\n",
        "    \n",
        "    moments['mu01']= sum((y-moments['y_'])*image)\n",
        "    moments['mu10']= sum((x-moments['x_'])*image)\n",
        "    moments['mu11'] = sum((x-moments['x_'])*(y-moments['y_'])*image)\n",
        "    moments['mu02'] = sum((y-moments['y_'])**2*image)\n",
        "    moments['mu20'] = sum((x-moments['x_'])**2*image)\n",
        "    moments['mu12'] = sum((x-moments['x_'])*(y-moments['y_'])**2*image)\n",
        "    moments['mu21'] = sum((x-moments['x_'])**2*(y-moments['y_'])*image)\n",
        "    moments['mu03'] = sum((y-moments['y_'])**3*image)\n",
        "    moments['mu30'] = sum((x-moments['x_'])**3*image)\n",
        "    \n",
        "    # Similitude Moments\n",
        "    Nvals['n02'] = moments['mu02'] / sum(image)**(2/2+1)\n",
        "    Nvals['n03'] = moments['mu03'] / sum(image)**(3/2+1)\n",
        "    Nvals['n11'] = moments['mu11'] / sum(image)**(2/2+1)\n",
        "    Nvals['n12'] = moments['mu12'] / sum(image)**(3/2+1)\n",
        "    Nvals['n20'] = moments['mu20'] / sum(image)**(2/2+1)\n",
        "    Nvals['n21'] = moments['mu21'] / sum(image)**(3/2+1)\n",
        "    Nvals['n30'] = moments['mu30'] / sum(image)**(3/2+1)\n",
        "    \n",
        "    return Nvals\n"
      ]
    },
    {
      "cell_type": "code",
      "source": [
        "  box_images = []\n",
        "  for i in range(1, 5):\n",
        "      image = cv2.imread(f'boxIm{i}.bmp', 0) / 255.0\n",
        "      box_images.append(image)\n",
        "\n",
        "  Nvals_list = []\n",
        "  i=1\n",
        "  for image in box_images:\n",
        "      Nvals = similitudeMoments(image)\n",
        "      Nvals_list.append(Nvals)\n",
        "      print(f\"Nvals for boxIm{i}: {Nvals}\")\n",
        "      i=i+1\n"
      ],
      "metadata": {
        "colab": {
          "base_uri": "https://localhost:8080/"
        },
        "id": "3RsHIvg5sx1i",
        "outputId": "4674491a-2a1d-433e-f65c-ba823e5fd532"
      },
      "execution_count": 13,
      "outputs": [
        {
          "output_type": "stream",
          "name": "stdout",
          "text": [
            "Nvals for boxIm1: {'n02': 0.1646090534979424, 'n03': 0.0, 'n11': 0.0, 'n12': 0.0, 'n20': 0.04215597711532671, 'n21': 0.0, 'n30': 0.0}\n",
            "Nvals for boxIm2: {'n02': 0.1646090534979424, 'n03': 0.0, 'n11': 0.0, 'n12': 0.0, 'n20': 0.04215597711532671, 'n21': 0.0, 'n30': 0.0}\n",
            "Nvals for boxIm3: {'n02': 0.1641025641025641, 'n03': 0.0, 'n11': 0.0, 'n12': 0.0, 'n20': 0.04226884226884227, 'n21': 0.0, 'n30': 0.0}\n",
            "Nvals for boxIm4: {'n02': 0.04215597711532671, 'n03': 0.0, 'n11': 0.0, 'n12': 0.0, 'n20': 0.1646090534979424, 'n21': 0.0, 'n30': 0.0}\n"
          ]
        }
      ]
    },
    {
      "cell_type": "markdown",
      "source": [
        "**Discussion: **\n",
        "\n",
        "*  For this question, I first write a function to compute the 7 similitude moment shape descriptors. In this funtion, I first compute the value of X_bar and Y_bar. Then, in order to compute the similitude moment shape descriptors' values, I compute each spatial moments and central moments. \n",
        "*  Then, I write a loop to compute and compare the results on each box images.\n",
        "* For Box image 1 to 3, the moments didn't change a lot. However, for the image 4, the value of n02 changed with the value of n20. From my perspective, the reason why some moments are zero is that image is symmetrical along a certain axis. \n"
      ],
      "metadata": {
        "id": "M4-nyuZI2T0A"
      }
    },
    {
      "cell_type": "markdown",
      "source": [
        "# Problem 2 "
      ],
      "metadata": {
        "id": "Bo8FUQ166etB"
      }
    },
    {
      "cell_type": "code",
      "source": [
        "#Load the data\n",
        "import pandas as pd\n",
        "eigdata = pd.read_csv(\"eigdata.txt\", sep=\"\\s+\", header=None) \n",
        "X=eigdata.to_numpy()\n",
        "_, (plt1, plt2) = plt.subplots(1, 2) \n",
        "plt1.plot(X[:,0], X[:,1], 'b.')\n",
        "plt1.axis('equal')\n",
        "#Mean-subtract data \n",
        "m=np.mean(X,axis=0) \n",
        "Y=X-m.reshape((1,-1)) \n",
        "plt2.plot(Y[:,0], Y[:,1], 'r.') \n",
        "plt2.axis('equal')\n",
        "plt.show()\n"
      ],
      "metadata": {
        "colab": {
          "base_uri": "https://localhost:8080/",
          "height": 265
        },
        "id": "aOlmd5WocD9j",
        "outputId": "2c739190-f212-4a3a-eb56-9757a62c15f6"
      },
      "execution_count": 14,
      "outputs": [
        {
          "output_type": "display_data",
          "data": {
            "text/plain": [
              "<Figure size 432x288 with 2 Axes>"
            ],
            "image/png": "[encoded data removed]"
          },
          "metadata": {
            "needs_background": "light"
          }
        }
      ]
    },
    {
      "cell_type": "markdown",
      "source": [
        "**Discussion:**\n",
        "\n",
        "For this problem, I just copy the code from the Homework. "
      ],
      "metadata": {
        "id": "pPAJK8XB6h6O"
      }
    },
    {
      "cell_type": "markdown",
      "source": [
        "# Problem 3"
      ],
      "metadata": {
        "id": "01-eqBaR6sqU"
      }
    },
    {
      "cell_type": "code",
      "source": [
        "import numpy as np\n",
        "\n",
        "#eigenvalues (V) and eigenvectors (U)\n",
        "cov = np.cov(Y.T)\n",
        "V, U = np.linalg.eig(cov)\n",
        "\n",
        "#mean\n",
        "Y_mean = Y - np.mean(Y, axis=0)\n",
        "\n",
        "# Plot mean-subtracted data\n",
        "plt.scatter(Y_mean[:,0], Y_mean[:,1], s=10)\n",
        "\n",
        "mean = np.mean(Y, axis=0)\n",
        "for i in range(2):\n",
        "    half_length = np.sqrt(V[i])*3\n",
        "    end_point = half_length * U[:, i]\n",
        "    print(end_point);\n",
        "    plt.arrow(0, 0, end_point[0], end_point[1], color='red', head_width=0.1, head_length=0.1)\n",
        "\n",
        "plt.axis('equal')\n",
        "plt.show()"
      ],
      "metadata": {
        "colab": {
          "base_uri": "https://localhost:8080/",
          "height": 301
        },
        "id": "D7020iFPpzpM",
        "outputId": "00c53849-e215-4197-a26b-e285bd7161f5"
      },
      "execution_count": 15,
      "outputs": [
        {
          "output_type": "stream",
          "name": "stdout",
          "text": [
            "[ 10.50316979 -10.34068314]\n",
            "[2.11963481 2.15294135]\n"
          ]
        },
        {
          "output_type": "display_data",
          "data": {
            "text/plain": [
              "<Figure size 432x288 with 1 Axes>"
            ],
            "image/png": "[encoded data removed]"
          },
          "metadata": {
            "needs_background": "light"
          }
        }
      ]
    },
    {
      "cell_type": "markdown",
      "source": [
        "**Discussion:**\n",
        "\n",
        "\n",
        "\n",
        "*   First, I computed the eigenvalues and eigenvectors in data Y.\n",
        "*   Then, I calculated the mean of Y and plot the mean_subtracted data Y.\n",
        "*   And for the last for loop, I used the eigenvalues to calculate the length of each axis and find the end point of each axis. \n",
        "\n",
        "\n",
        "\n"
      ],
      "metadata": {
        "id": "n4M9exBY6wM2"
      }
    },
    {
      "cell_type": "markdown",
      "source": [
        "# Problem 4"
      ],
      "metadata": {
        "id": "e52Eh90y6w_w"
      }
    },
    {
      "cell_type": "code",
      "source": [
        "# Rotate the data Y\n",
        "Y_rotated = np.dot(Y_mean, U)\n",
        "\n",
        "# Plot rotated data\n",
        "plt.scatter(Y_rotated[:,0], Y_rotated[:,1], s=10)\n",
        "plt.axis('equal')\n",
        "plt.show()\n"
      ],
      "metadata": {
        "colab": {
          "base_uri": "https://localhost:8080/",
          "height": 265
        },
        "id": "GiiXkHcOrloc",
        "outputId": "88010223-4e02-480e-80ae-8a6ee36ca6d9"
      },
      "execution_count": 16,
      "outputs": [
        {
          "output_type": "display_data",
          "data": {
            "text/plain": [
              "<Figure size 432x288 with 1 Axes>"
            ],
            "image/png": "[encoded data removed]"
          },
          "metadata": {
            "needs_background": "light"
          }
        }
      ]
    },
    {
      "cell_type": "markdown",
      "source": [
        "**Discussion:**\n",
        "\n",
        "For this problem, I first rotate the data Y and then plot the rotated data. "
      ],
      "metadata": {
        "id": "_ROl4vic61P0"
      }
    },
    {
      "cell_type": "markdown",
      "source": [
        "# Problem 5"
      ],
      "metadata": {
        "id": "WDaj7ptu62oA"
      }
    },
    {
      "cell_type": "code",
      "source": [
        "eigenvalues_sorted = np.sort(V)[::-1]\n",
        "eigenvectors_sorted = U[:, np.argsort(V)[::-1]]\n",
        "\n",
        "reduced_data = np.dot(Y_mean, eigenvectors_sorted[:,0]).reshape(-1, 1)\n",
        "\n",
        "plt.hist(reduced_data, bins=30, density=True)\n",
        "plt.show()\n"
      ],
      "metadata": {
        "colab": {
          "base_uri": "https://localhost:8080/",
          "height": 265
        },
        "id": "YUQg5gnCsSmQ",
        "outputId": "82b156da-8497-45a0-b533-47afd10cd337"
      },
      "execution_count": 17,
      "outputs": [
        {
          "output_type": "display_data",
          "data": {
            "text/plain": [
              "<Figure size 432x288 with 1 Axes>"
            ],
            "image/png": "[encoded data removed]"
          },
          "metadata": {
            "needs_background": "light"
          }
        }
      ]
    },
    {
      "cell_type": "markdown",
      "source": [
        "**Discussion:**\n",
        "\n",
        "I think this 1-D histogram look like a 1-D Gaussian. "
      ],
      "metadata": {
        "id": "MGRS8AtP66nd"
      }
    }
  ]
}